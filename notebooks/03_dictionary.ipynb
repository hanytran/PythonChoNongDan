{
 "cells": [
  {
   "cell_type": "markdown",
   "metadata": {},
   "source": [
    "# Dictionary"
   ]
  },
  {
   "cell_type": "code",
   "execution_count": 1,
   "metadata": {},
   "outputs": [
    {
     "data": {
      "text/plain": [
       "{'An': 45, 'Binh': 50, 'Chi': 40, 'Hong': 90, 'Chau': 60, 'Bang': 75}"
      ]
     },
     "execution_count": 1,
     "metadata": {},
     "output_type": "execute_result"
    }
   ],
   "source": [
    "d = {\n",
    "    'An': 45,\n",
    "    'Binh': 50,\n",
    "    'Chi': 40,\n",
    "    'Hong': 90,\n",
    "    'Chau': 60,\n",
    "    'Bang': 75\n",
    "}\n",
    "d"
   ]
  },
  {
   "cell_type": "code",
   "execution_count": 2,
   "metadata": {},
   "outputs": [
    {
     "data": {
      "text/plain": [
       "60"
      ]
     },
     "execution_count": 2,
     "metadata": {},
     "output_type": "execute_result"
    }
   ],
   "source": [
    "d['Chau']"
   ]
  },
  {
   "cell_type": "code",
   "execution_count": 3,
   "metadata": {},
   "outputs": [
    {
     "data": {
      "text/plain": [
       "75"
      ]
     },
     "execution_count": 3,
     "metadata": {},
     "output_type": "execute_result"
    }
   ],
   "source": [
    "d['Bang']"
   ]
  },
  {
   "cell_type": "code",
   "execution_count": 4,
   "metadata": {},
   "outputs": [
    {
     "data": {
      "text/plain": [
       "dict_keys(['An', 'Binh', 'Chi', 'Hong', 'Chau', 'Bang'])"
      ]
     },
     "execution_count": 4,
     "metadata": {},
     "output_type": "execute_result"
    }
   ],
   "source": [
    "d.keys()"
   ]
  },
  {
   "cell_type": "code",
   "execution_count": 5,
   "metadata": {},
   "outputs": [
    {
     "data": {
      "text/plain": [
       "dict_values([45, 50, 40, 90, 60, 75])"
      ]
     },
     "execution_count": 5,
     "metadata": {},
     "output_type": "execute_result"
    }
   ],
   "source": [
    "d.values()"
   ]
  },
  {
   "cell_type": "code",
   "execution_count": 6,
   "metadata": {},
   "outputs": [
    {
     "data": {
      "text/plain": [
       "dict_items([('An', 45), ('Binh', 50), ('Chi', 40), ('Hong', 90), ('Chau', 60), ('Bang', 75)])"
      ]
     },
     "execution_count": 6,
     "metadata": {},
     "output_type": "execute_result"
    }
   ],
   "source": [
    "d.items()"
   ]
  },
  {
   "cell_type": "markdown",
   "metadata": {},
   "source": [
    "## Duyet dictionary"
   ]
  },
  {
   "cell_type": "code",
   "execution_count": 9,
   "metadata": {},
   "outputs": [
    {
     "name": "stdout",
     "output_type": "stream",
     "text": [
      "2\n"
     ]
    }
   ],
   "source": [
    "count = 0\n",
    "for k in d.keys():\n",
    "    if k.startswith('B'):\n",
    "        count += 1\n",
    "print(count)        "
   ]
  },
  {
   "cell_type": "code",
   "execution_count": 10,
   "metadata": {},
   "outputs": [
    {
     "name": "stdout",
     "output_type": "stream",
     "text": [
      "3\n"
     ]
    }
   ],
   "source": [
    "count = 0\n",
    "for v in d.values():\n",
    "    if v > 50:\n",
    "        count += 1\n",
    "print(count)        "
   ]
  },
  {
   "cell_type": "code",
   "execution_count": 11,
   "metadata": {},
   "outputs": [
    {
     "name": "stdout",
     "output_type": "stream",
     "text": [
      "Hong\n",
      "Chau\n",
      "Bang\n"
     ]
    }
   ],
   "source": [
    "for k, v in d.items():\n",
    "    if v > 50:\n",
    "        print(k)"
   ]
  },
  {
   "cell_type": "code",
   "execution_count": 12,
   "metadata": {},
   "outputs": [
    {
     "data": {
      "text/plain": [
       "{'An': 45, 'Binh': 50, 'Chi': 40, 'Hong': 90, 'Chau': 60, 'Bang': 75}"
      ]
     },
     "execution_count": 12,
     "metadata": {},
     "output_type": "execute_result"
    }
   ],
   "source": [
    "d"
   ]
  },
  {
   "cell_type": "code",
   "execution_count": 13,
   "metadata": {},
   "outputs": [
    {
     "data": {
      "text/plain": [
       "60.0"
      ]
     },
     "execution_count": 13,
     "metadata": {},
     "output_type": "execute_result"
    }
   ],
   "source": [
    "sum(d.values())/len(d)"
   ]
  },
  {
   "cell_type": "code",
   "execution_count": 27,
   "metadata": {},
   "outputs": [
    {
     "name": "stdout",
     "output_type": "stream",
     "text": [
      "{'H': 1, 'o': 6, 'm': 2, ' ': 10, 'n': 4, 'a': 3, 'y': 1, 't': 3, 'r': 1, 'i': 3, 'u': 2, 'q': 1, 'e': 1, 'k': 1, 'h': 2, 'g': 1, 'd': 1, 'c': 1}\n"
     ]
    }
   ],
   "source": [
    "s = 'Hom nay troi mua to qua nen toi khong di hoc'\n",
    "d1 = {}\n",
    "for v in s:\n",
    "    if v in d1:\n",
    "        d1[v] += 1\n",
    "    else:\n",
    "        d1[v] = 1\n",
    "print(d1)        "
   ]
  },
  {
   "cell_type": "code",
   "execution_count": 20,
   "metadata": {},
   "outputs": [
    {
     "data": {
      "text/plain": [
       "{'H': 1,\n",
       " 'o': 6,\n",
       " 'm': 2,\n",
       " ' ': 10,\n",
       " 'n': 4,\n",
       " 'a': 3,\n",
       " 'y': 1,\n",
       " 't': 3,\n",
       " 'r': 1,\n",
       " 'i': 3,\n",
       " 'u': 2,\n",
       " 'q': 1,\n",
       " 'e': 1,\n",
       " 'k': 1,\n",
       " 'h': 2,\n",
       " 'g': 1,\n",
       " 'd': 1,\n",
       " 'c': 1}"
      ]
     },
     "execution_count": 20,
     "metadata": {},
     "output_type": "execute_result"
    }
   ],
   "source": [
    "d"
   ]
  },
  {
   "cell_type": "code",
   "execution_count": 21,
   "metadata": {},
   "outputs": [
    {
     "data": {
      "text/plain": [
       "3"
      ]
     },
     "execution_count": 21,
     "metadata": {},
     "output_type": "execute_result"
    }
   ],
   "source": [
    "d['a']"
   ]
  },
  {
   "cell_type": "code",
   "execution_count": 22,
   "metadata": {},
   "outputs": [
    {
     "data": {
      "text/plain": [
       "3"
      ]
     },
     "execution_count": 22,
     "metadata": {},
     "output_type": "execute_result"
    }
   ],
   "source": [
    "d.get('a')"
   ]
  },
  {
   "cell_type": "code",
   "execution_count": 24,
   "metadata": {},
   "outputs": [
    {
     "data": {
      "text/plain": [
       "0"
      ]
     },
     "execution_count": 24,
     "metadata": {},
     "output_type": "execute_result"
    }
   ],
   "source": [
    "d.get('w', 0)"
   ]
  },
  {
   "cell_type": "code",
   "execution_count": 28,
   "metadata": {},
   "outputs": [
    {
     "name": "stdout",
     "output_type": "stream",
     "text": [
      "{'H': 1, 'o': 6, 'm': 2, ' ': 10, 'n': 4, 'a': 3, 'y': 1, 't': 3, 'r': 1, 'i': 3, 'u': 2, 'q': 1, 'e': 1, 'k': 1, 'h': 2, 'g': 1, 'd': 1, 'c': 1}\n"
     ]
    }
   ],
   "source": [
    "s = 'Hom nay troi mua to qua nen toi khong di hoc'\n",
    "d2= {}\n",
    "for v in s:\n",
    "    d2[2] = d2.get(v, 0) + 1\n",
    "print(d)"
   ]
  },
  {
   "cell_type": "code",
   "execution_count": 30,
   "metadata": {},
   "outputs": [
    {
     "name": "stdout",
     "output_type": "stream",
     "text": [
      "{'H': 1, 'o': 6, 'm': 2, ' ': 10, 'n': 4, 'a': 3, 'y': 1, 't': 3, 'r': 1, 'i': 3, 'u': 2, 'q': 1, 'e': 1, 'k': 1, 'h': 2, 'g': 1, 'd': 1, 'c': 1}\n"
     ]
    }
   ],
   "source": [
    "print(d1)"
   ]
  }
 ],
 "metadata": {
  "kernelspec": {
   "display_name": "Python 3",
   "language": "python",
   "name": "python3"
  },
  "language_info": {
   "codemirror_mode": {
    "name": "ipython",
    "version": 3
   },
   "file_extension": ".py",
   "mimetype": "text/x-python",
   "name": "python",
   "nbconvert_exporter": "python",
   "pygments_lexer": "ipython3",
   "version": "3.6.8"
  }
 },
 "nbformat": 4,
 "nbformat_minor": 2
}
